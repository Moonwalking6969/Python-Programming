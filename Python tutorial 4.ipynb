{
 "cells": [
  {
   "cell_type": "code",
   "execution_count": 11,
   "id": "76723147-3962-4ef6-b80d-d6cb21096dc9",
   "metadata": {},
   "outputs": [],
   "source": [
    "import numpy as np\n",
    "import pandas as pd"
   ]
  },
  {
   "cell_type": "raw",
   "id": "bd155db9-628a-42a6-9dab-7dd7d71a1b6b",
   "metadata": {},
   "source": [
    "  Read Data JSON to CSV"
   ]
  },
  {
   "cell_type": "code",
   "execution_count": 12,
   "id": "26459242-40be-4a97-a00c-ddbfdbb19616",
   "metadata": {},
   "outputs": [],
   "source": [
    "Data ='{\"employee_name\":\"James\",\"email\":\"james@gmail.com\",\"job_profile\":[{\"title1\":\"Team Lead\",\"title2\":\"Sr.Developer\"}]}'"
   ]
  },
  {
   "cell_type": "code",
   "execution_count": 13,
   "id": "e50d1fb5-d934-436c-b9e0-82026b149d5d",
   "metadata": {},
   "outputs": [
    {
     "name": "stderr",
     "output_type": "stream",
     "text": [
      "C:\\Users\\Administrator\\AppData\\Local\\Temp\\ipykernel_6432\\131570499.py:1: FutureWarning: Passing literal json to 'read_json' is deprecated and will be removed in a future version. To read from a literal string, wrap it in a 'StringIO' object.\n",
      "  pd.read_json(Data)\n"
     ]
    },
    {
     "data": {
      "text/html": [
       "<div>\n",
       "<style scoped>\n",
       "    .dataframe tbody tr th:only-of-type {\n",
       "        vertical-align: middle;\n",
       "    }\n",
       "\n",
       "    .dataframe tbody tr th {\n",
       "        vertical-align: top;\n",
       "    }\n",
       "\n",
       "    .dataframe thead th {\n",
       "        text-align: right;\n",
       "    }\n",
       "</style>\n",
       "<table border=\"1\" class=\"dataframe\">\n",
       "  <thead>\n",
       "    <tr style=\"text-align: right;\">\n",
       "      <th></th>\n",
       "      <th>employee_name</th>\n",
       "      <th>email</th>\n",
       "      <th>job_profile</th>\n",
       "    </tr>\n",
       "  </thead>\n",
       "  <tbody>\n",
       "    <tr>\n",
       "      <th>0</th>\n",
       "      <td>James</td>\n",
       "      <td>james@gmail.com</td>\n",
       "      <td>{'title1': 'Team Lead', 'title2': 'Sr.Developer'}</td>\n",
       "    </tr>\n",
       "  </tbody>\n",
       "</table>\n",
       "</div>"
      ],
      "text/plain": [
       "  employee_name            email  \\\n",
       "0         James  james@gmail.com   \n",
       "\n",
       "                                         job_profile  \n",
       "0  {'title1': 'Team Lead', 'title2': 'Sr.Developer'}  "
      ]
     },
     "execution_count": 13,
     "metadata": {},
     "output_type": "execute_result"
    }
   ],
   "source": [
    "pd.read_json(Data)"
   ]
  },
  {
   "cell_type": "raw",
   "id": "214bc1d0-7c1f-4957-a14b-e309bd327fd8",
   "metadata": {},
   "source": [
    "read_json(Data_name) function used to read json\n",
    "\n",
    "If you want to read from a url\n",
    "\n",
    "df= pd.read_csv('URL', header=None)\n",
    "\n",
    "df.head()"
   ]
  },
  {
   "cell_type": "raw",
   "id": "6c9c1d1e-7177-4bc3-b515-1c5d2fc3010f",
   "metadata": {},
   "source": [
    "Convert JSON to CSV"
   ]
  },
  {
   "cell_type": "raw",
   "id": "674c2781-dbfa-44a8-ba89-f874439a86b2",
   "metadata": {},
   "source": [
    "df.to_csv('wine.csv')"
   ]
  },
  {
   "cell_type": "raw",
   "id": "22e237e1-d5c5-4670-9699-1e1a39362880",
   "metadata": {},
   "source": [
    "Convert JSON to different json format"
   ]
  },
  {
   "cell_type": "raw",
   "id": "e2f0632d-8118-4955-801e-816da9578f02",
   "metadata": {},
   "source": [
    "df.to_json(orient = \"index\")"
   ]
  },
  {
   "cell_type": "raw",
   "id": "1dba33ab-e2d7-46e1-9597-b9648aca1eb3",
   "metadata": {},
   "source": [
    "If you want to convert a Data Frame to json"
   ]
  },
  {
   "cell_type": "code",
   "execution_count": 14,
   "id": "8445ff0b-f6db-420c-ba2d-bc31e0000e75",
   "metadata": {},
   "outputs": [
    {
     "name": "stderr",
     "output_type": "stream",
     "text": [
      "C:\\Users\\Administrator\\AppData\\Local\\Temp\\ipykernel_6432\\135418456.py:1: FutureWarning: Passing literal json to 'read_json' is deprecated and will be removed in a future version. To read from a literal string, wrap it in a 'StringIO' object.\n",
      "  df1=pd.read_json(Data)\n"
     ]
    }
   ],
   "source": [
    "df1=pd.read_json(Data)"
   ]
  },
  {
   "cell_type": "code",
   "execution_count": 15,
   "id": "3cee772d-6222-4c05-9cbf-1ae793a203f1",
   "metadata": {},
   "outputs": [
    {
     "data": {
      "text/plain": [
       "'{\"employee_name\":{\"0\":\"James\"},\"email\":{\"0\":\"james@gmail.com\"},\"job_profile\":{\"0\":{\"title1\":\"Team Lead\",\"title2\":\"Sr.Developer\"}}}'"
      ]
     },
     "execution_count": 15,
     "metadata": {},
     "output_type": "execute_result"
    }
   ],
   "source": [
    "df1.to_json()"
   ]
  },
  {
   "cell_type": "raw",
   "id": "fe46ca12-a1fb-4369-8a71-96eb1d539aea",
   "metadata": {},
   "source": [
    "It is very much usual that  whenever you are creating a json you should make sure that you create a json with respect to the records"
   ]
  },
  {
   "cell_type": "code",
   "execution_count": 17,
   "id": "6c277c30-d0c8-46d5-af3b-78f4693a684d",
   "metadata": {},
   "outputs": [
    {
     "data": {
      "text/plain": [
       "'[{\"employee_name\":\"James\",\"email\":\"james@gmail.com\",\"job_profile\":{\"title1\":\"Team Lead\",\"title2\":\"Sr.Developer\"}}]'"
      ]
     },
     "execution_count": 17,
     "metadata": {},
     "output_type": "execute_result"
    }
   ],
   "source": [
    "df1.to_json(orient=\"records\")"
   ]
  },
  {
   "cell_type": "raw",
   "id": "fcfaccba-fa15-4064-b87b-824ca6b6b48c",
   "metadata": {},
   "source": [
    "If we dont use orient=\"records\" then by default it will take the key value pairs of each and every values"
   ]
  },
  {
   "cell_type": "raw",
   "id": "8b5ead37-a9c9-4cca-9159-a27938dcce65",
   "metadata": {},
   "source": [
    "Reading HTML content"
   ]
  },
  {
   "cell_type": "raw",
   "id": "316ed260-f831-4103-a38f-712525c3176a",
   "metadata": {},
   "source": [
    "webscraping technique"
   ]
  },
  {
   "cell_type": "code",
   "execution_count": 27,
   "id": "5daf1b0e-295d-4955-87f9-9e6f2bcf9aed",
   "metadata": {},
   "outputs": [],
   "source": [
    "url = 'https://www.fdic.gov/resources/resolutions/bank-failures/failed-bank-list/'"
   ]
  },
  {
   "cell_type": "code",
   "execution_count": 24,
   "id": "34c68fd8-c7e7-4911-9bac-ed36879c8e61",
   "metadata": {},
   "outputs": [
    {
     "name": "stdout",
     "output_type": "stream",
     "text": [
      "Collecting html5lib\n",
      "  Downloading html5lib-1.1-py2.py3-none-any.whl.metadata (16 kB)\n",
      "Requirement already satisfied: six>=1.9 in c:\\programdata\\anaconda3\\lib\\site-packages (from html5lib) (1.16.0)\n",
      "Requirement already satisfied: webencodings in c:\\programdata\\anaconda3\\lib\\site-packages (from html5lib) (0.5.1)\n",
      "Downloading html5lib-1.1-py2.py3-none-any.whl (112 kB)\n",
      "   ---------------------------------------- 0.0/112.2 kB ? eta -:--:--\n",
      "   --- ------------------------------------ 10.2/112.2 kB ? eta -:--:--\n",
      "   ------- ------------------------------- 20.5/112.2 kB 330.3 kB/s eta 0:00:01\n",
      "   ---------- ---------------------------- 30.7/112.2 kB 435.7 kB/s eta 0:00:01\n",
      "   -------------- ------------------------ 41.0/112.2 kB 326.8 kB/s eta 0:00:01\n",
      "   --------------------- ----------------- 61.4/112.2 kB 328.2 kB/s eta 0:00:01\n",
      "   -------------------------------- ------ 92.2/112.2 kB 476.3 kB/s eta 0:00:01\n",
      "   -------------------------------------- 112.2/112.2 kB 502.1 kB/s eta 0:00:00\n",
      "Installing collected packages: html5lib\n",
      "Successfully installed html5lib-1.1\n"
     ]
    }
   ],
   "source": [
    "!pip install html5lib"
   ]
  },
  {
   "cell_type": "code",
   "execution_count": 25,
   "id": "c0eb4ab4-da2d-498a-a1f9-018faf94c4d0",
   "metadata": {},
   "outputs": [],
   "source": [
    "import html5lib"
   ]
  },
  {
   "cell_type": "code",
   "execution_count": 28,
   "id": "94cf735f-13ba-4e55-b5be-bda538d4a0bc",
   "metadata": {},
   "outputs": [],
   "source": [
    "dfs=pd.read_html(url)"
   ]
  },
  {
   "cell_type": "code",
   "execution_count": 29,
   "id": "d8ea23c0-de08-49d8-a8a3-72dde3f5d6e3",
   "metadata": {},
   "outputs": [
    {
     "data": {
      "text/html": [
       "<div>\n",
       "<style scoped>\n",
       "    .dataframe tbody tr th:only-of-type {\n",
       "        vertical-align: middle;\n",
       "    }\n",
       "\n",
       "    .dataframe tbody tr th {\n",
       "        vertical-align: top;\n",
       "    }\n",
       "\n",
       "    .dataframe thead th {\n",
       "        text-align: right;\n",
       "    }\n",
       "</style>\n",
       "<table border=\"1\" class=\"dataframe\">\n",
       "  <thead>\n",
       "    <tr style=\"text-align: right;\">\n",
       "      <th></th>\n",
       "      <th>Bank NameBank</th>\n",
       "      <th>CityCity</th>\n",
       "      <th>StateSt</th>\n",
       "      <th>CertCert</th>\n",
       "      <th>Acquiring InstitutionAI</th>\n",
       "      <th>Closing DateClosing</th>\n",
       "      <th>FundFund</th>\n",
       "    </tr>\n",
       "  </thead>\n",
       "  <tbody>\n",
       "    <tr>\n",
       "      <th>0</th>\n",
       "      <td>Republic First Bank dba Republic Bank</td>\n",
       "      <td>Philadelphia</td>\n",
       "      <td>PA</td>\n",
       "      <td>27332</td>\n",
       "      <td>Fulton Bank, National Association</td>\n",
       "      <td>April 26, 2024</td>\n",
       "      <td>10546</td>\n",
       "    </tr>\n",
       "    <tr>\n",
       "      <th>1</th>\n",
       "      <td>Citizens Bank</td>\n",
       "      <td>Sac City</td>\n",
       "      <td>IA</td>\n",
       "      <td>8758</td>\n",
       "      <td>Iowa Trust &amp; Savings Bank</td>\n",
       "      <td>November 3, 2023</td>\n",
       "      <td>10545</td>\n",
       "    </tr>\n",
       "    <tr>\n",
       "      <th>2</th>\n",
       "      <td>Heartland Tri-State Bank</td>\n",
       "      <td>Elkhart</td>\n",
       "      <td>KS</td>\n",
       "      <td>25851</td>\n",
       "      <td>Dream First Bank, N.A.</td>\n",
       "      <td>July 28, 2023</td>\n",
       "      <td>10544</td>\n",
       "    </tr>\n",
       "    <tr>\n",
       "      <th>3</th>\n",
       "      <td>First Republic Bank</td>\n",
       "      <td>San Francisco</td>\n",
       "      <td>CA</td>\n",
       "      <td>59017</td>\n",
       "      <td>JPMorgan Chase Bank, N.A.</td>\n",
       "      <td>May 1, 2023</td>\n",
       "      <td>10543</td>\n",
       "    </tr>\n",
       "    <tr>\n",
       "      <th>4</th>\n",
       "      <td>Signature Bank</td>\n",
       "      <td>New York</td>\n",
       "      <td>NY</td>\n",
       "      <td>57053</td>\n",
       "      <td>Flagstar Bank, N.A.</td>\n",
       "      <td>March 12, 2023</td>\n",
       "      <td>10540</td>\n",
       "    </tr>\n",
       "    <tr>\n",
       "      <th>...</th>\n",
       "      <td>...</td>\n",
       "      <td>...</td>\n",
       "      <td>...</td>\n",
       "      <td>...</td>\n",
       "      <td>...</td>\n",
       "      <td>...</td>\n",
       "      <td>...</td>\n",
       "    </tr>\n",
       "    <tr>\n",
       "      <th>564</th>\n",
       "      <td>Superior Bank, FSB</td>\n",
       "      <td>Hinsdale</td>\n",
       "      <td>IL</td>\n",
       "      <td>32646</td>\n",
       "      <td>Superior Federal, FSB</td>\n",
       "      <td>July 27, 2001</td>\n",
       "      <td>6004</td>\n",
       "    </tr>\n",
       "    <tr>\n",
       "      <th>565</th>\n",
       "      <td>Malta National Bank</td>\n",
       "      <td>Malta</td>\n",
       "      <td>OH</td>\n",
       "      <td>6629</td>\n",
       "      <td>North Valley Bank</td>\n",
       "      <td>May 3, 2001</td>\n",
       "      <td>4648</td>\n",
       "    </tr>\n",
       "    <tr>\n",
       "      <th>566</th>\n",
       "      <td>First Alliance Bank &amp; Trust Co.</td>\n",
       "      <td>Manchester</td>\n",
       "      <td>NH</td>\n",
       "      <td>34264</td>\n",
       "      <td>Southern New Hampshire Bank &amp; Trust</td>\n",
       "      <td>February 2, 2001</td>\n",
       "      <td>4647</td>\n",
       "    </tr>\n",
       "    <tr>\n",
       "      <th>567</th>\n",
       "      <td>National State Bank of Metropolis</td>\n",
       "      <td>Metropolis</td>\n",
       "      <td>IL</td>\n",
       "      <td>3815</td>\n",
       "      <td>Banterra Bank of Marion</td>\n",
       "      <td>December 14, 2000</td>\n",
       "      <td>4646</td>\n",
       "    </tr>\n",
       "    <tr>\n",
       "      <th>568</th>\n",
       "      <td>Bank of Honolulu</td>\n",
       "      <td>Honolulu</td>\n",
       "      <td>HI</td>\n",
       "      <td>21029</td>\n",
       "      <td>Bank of the Orient</td>\n",
       "      <td>October 13, 2000</td>\n",
       "      <td>4645</td>\n",
       "    </tr>\n",
       "  </tbody>\n",
       "</table>\n",
       "<p>569 rows × 7 columns</p>\n",
       "</div>"
      ],
      "text/plain": [
       "                             Bank NameBank       CityCity StateSt  CertCert  \\\n",
       "0    Republic First Bank dba Republic Bank   Philadelphia      PA     27332   \n",
       "1                            Citizens Bank       Sac City      IA      8758   \n",
       "2                 Heartland Tri-State Bank        Elkhart      KS     25851   \n",
       "3                      First Republic Bank  San Francisco      CA     59017   \n",
       "4                           Signature Bank       New York      NY     57053   \n",
       "..                                     ...            ...     ...       ...   \n",
       "564                     Superior Bank, FSB       Hinsdale      IL     32646   \n",
       "565                    Malta National Bank          Malta      OH      6629   \n",
       "566        First Alliance Bank & Trust Co.     Manchester      NH     34264   \n",
       "567      National State Bank of Metropolis     Metropolis      IL      3815   \n",
       "568                       Bank of Honolulu       Honolulu      HI     21029   \n",
       "\n",
       "                 Acquiring InstitutionAI Closing DateClosing  FundFund  \n",
       "0      Fulton Bank, National Association      April 26, 2024     10546  \n",
       "1              Iowa Trust & Savings Bank    November 3, 2023     10545  \n",
       "2                 Dream First Bank, N.A.       July 28, 2023     10544  \n",
       "3              JPMorgan Chase Bank, N.A.         May 1, 2023     10543  \n",
       "4                    Flagstar Bank, N.A.      March 12, 2023     10540  \n",
       "..                                   ...                 ...       ...  \n",
       "564                Superior Federal, FSB       July 27, 2001      6004  \n",
       "565                    North Valley Bank         May 3, 2001      4648  \n",
       "566  Southern New Hampshire Bank & Trust    February 2, 2001      4647  \n",
       "567              Banterra Bank of Marion   December 14, 2000      4646  \n",
       "568                   Bank of the Orient    October 13, 2000      4645  \n",
       "\n",
       "[569 rows x 7 columns]"
      ]
     },
     "execution_count": 29,
     "metadata": {},
     "output_type": "execute_result"
    }
   ],
   "source": [
    "dfs[0]"
   ]
  },
  {
   "cell_type": "code",
   "execution_count": 30,
   "id": "190943cb-cd89-4f92-914b-abf4dcffb48f",
   "metadata": {},
   "outputs": [],
   "source": [
    "url_mcc='https://en.wikipedia.org/wiki/Mobile_country_code'"
   ]
  },
  {
   "cell_type": "code",
   "execution_count": 31,
   "id": "56b64987-2003-4db5-8015-eaf4b9146703",
   "metadata": {},
   "outputs": [],
   "source": [
    "dfs=pd.read_html(url_mcc,match='Country',header=0)"
   ]
  },
  {
   "cell_type": "code",
   "execution_count": 32,
   "id": "213b199c-f305-4750-91ff-5226ee08079f",
   "metadata": {},
   "outputs": [
    {
     "data": {
      "text/html": [
       "<div>\n",
       "<style scoped>\n",
       "    .dataframe tbody tr th:only-of-type {\n",
       "        vertical-align: middle;\n",
       "    }\n",
       "\n",
       "    .dataframe tbody tr th {\n",
       "        vertical-align: top;\n",
       "    }\n",
       "\n",
       "    .dataframe thead th {\n",
       "        text-align: right;\n",
       "    }\n",
       "</style>\n",
       "<table border=\"1\" class=\"dataframe\">\n",
       "  <thead>\n",
       "    <tr style=\"text-align: right;\">\n",
       "      <th></th>\n",
       "      <th>Mobile country code</th>\n",
       "      <th>Country</th>\n",
       "      <th>ISO 3166</th>\n",
       "      <th>Mobile network codes</th>\n",
       "      <th>National MNC authority</th>\n",
       "      <th>Remarks</th>\n",
       "    </tr>\n",
       "  </thead>\n",
       "  <tbody>\n",
       "    <tr>\n",
       "      <th>0</th>\n",
       "      <td>289</td>\n",
       "      <td>A Abkhazia</td>\n",
       "      <td>GE-AB</td>\n",
       "      <td>List of mobile network codes in Abkhazia</td>\n",
       "      <td>NaN</td>\n",
       "      <td>MCC is not listed by ITU</td>\n",
       "    </tr>\n",
       "    <tr>\n",
       "      <th>1</th>\n",
       "      <td>412</td>\n",
       "      <td>Afghanistan</td>\n",
       "      <td>AF</td>\n",
       "      <td>List of mobile network codes in Afghanistan</td>\n",
       "      <td>NaN</td>\n",
       "      <td>NaN</td>\n",
       "    </tr>\n",
       "    <tr>\n",
       "      <th>2</th>\n",
       "      <td>276</td>\n",
       "      <td>Albania</td>\n",
       "      <td>AL</td>\n",
       "      <td>List of mobile network codes in Albania</td>\n",
       "      <td>NaN</td>\n",
       "      <td>NaN</td>\n",
       "    </tr>\n",
       "    <tr>\n",
       "      <th>3</th>\n",
       "      <td>603</td>\n",
       "      <td>Algeria</td>\n",
       "      <td>DZ</td>\n",
       "      <td>List of mobile network codes in Algeria</td>\n",
       "      <td>NaN</td>\n",
       "      <td>NaN</td>\n",
       "    </tr>\n",
       "    <tr>\n",
       "      <th>4</th>\n",
       "      <td>544</td>\n",
       "      <td>American Samoa (United States of America)</td>\n",
       "      <td>AS</td>\n",
       "      <td>List of mobile network codes in American Samoa</td>\n",
       "      <td>NaN</td>\n",
       "      <td>NaN</td>\n",
       "    </tr>\n",
       "    <tr>\n",
       "      <th>...</th>\n",
       "      <td>...</td>\n",
       "      <td>...</td>\n",
       "      <td>...</td>\n",
       "      <td>...</td>\n",
       "      <td>...</td>\n",
       "      <td>...</td>\n",
       "    </tr>\n",
       "    <tr>\n",
       "      <th>247</th>\n",
       "      <td>452</td>\n",
       "      <td>Vietnam</td>\n",
       "      <td>VN</td>\n",
       "      <td>List of mobile network codes in the Vietnam</td>\n",
       "      <td>NaN</td>\n",
       "      <td>NaN</td>\n",
       "    </tr>\n",
       "    <tr>\n",
       "      <th>248</th>\n",
       "      <td>543</td>\n",
       "      <td>W Wallis and Futuna</td>\n",
       "      <td>WF</td>\n",
       "      <td>List of mobile network codes in Wallis and Futuna</td>\n",
       "      <td>NaN</td>\n",
       "      <td>NaN</td>\n",
       "    </tr>\n",
       "    <tr>\n",
       "      <th>249</th>\n",
       "      <td>421</td>\n",
       "      <td>Y Yemen</td>\n",
       "      <td>YE</td>\n",
       "      <td>List of mobile network codes in the Yemen</td>\n",
       "      <td>NaN</td>\n",
       "      <td>NaN</td>\n",
       "    </tr>\n",
       "    <tr>\n",
       "      <th>250</th>\n",
       "      <td>645</td>\n",
       "      <td>Z Zambia</td>\n",
       "      <td>ZM</td>\n",
       "      <td>List of mobile network codes in Zambia</td>\n",
       "      <td>NaN</td>\n",
       "      <td>NaN</td>\n",
       "    </tr>\n",
       "    <tr>\n",
       "      <th>251</th>\n",
       "      <td>648</td>\n",
       "      <td>Zimbabwe</td>\n",
       "      <td>ZW</td>\n",
       "      <td>List of mobile network codes in Zimbabwe</td>\n",
       "      <td>NaN</td>\n",
       "      <td>NaN</td>\n",
       "    </tr>\n",
       "  </tbody>\n",
       "</table>\n",
       "<p>252 rows × 6 columns</p>\n",
       "</div>"
      ],
      "text/plain": [
       "     Mobile country code                                    Country ISO 3166  \\\n",
       "0                    289                                 A Abkhazia    GE-AB   \n",
       "1                    412                                Afghanistan       AF   \n",
       "2                    276                                    Albania       AL   \n",
       "3                    603                                    Algeria       DZ   \n",
       "4                    544  American Samoa (United States of America)       AS   \n",
       "..                   ...                                        ...      ...   \n",
       "247                  452                                    Vietnam       VN   \n",
       "248                  543                        W Wallis and Futuna       WF   \n",
       "249                  421                                    Y Yemen       YE   \n",
       "250                  645                                   Z Zambia       ZM   \n",
       "251                  648                                   Zimbabwe       ZW   \n",
       "\n",
       "                                  Mobile network codes National MNC authority  \\\n",
       "0             List of mobile network codes in Abkhazia                    NaN   \n",
       "1          List of mobile network codes in Afghanistan                    NaN   \n",
       "2              List of mobile network codes in Albania                    NaN   \n",
       "3              List of mobile network codes in Algeria                    NaN   \n",
       "4       List of mobile network codes in American Samoa                    NaN   \n",
       "..                                                 ...                    ...   \n",
       "247        List of mobile network codes in the Vietnam                    NaN   \n",
       "248  List of mobile network codes in Wallis and Futuna                    NaN   \n",
       "249          List of mobile network codes in the Yemen                    NaN   \n",
       "250             List of mobile network codes in Zambia                    NaN   \n",
       "251           List of mobile network codes in Zimbabwe                    NaN   \n",
       "\n",
       "                      Remarks  \n",
       "0    MCC is not listed by ITU  \n",
       "1                         NaN  \n",
       "2                         NaN  \n",
       "3                         NaN  \n",
       "4                         NaN  \n",
       "..                        ...  \n",
       "247                       NaN  \n",
       "248                       NaN  \n",
       "249                       NaN  \n",
       "250                       NaN  \n",
       "251                       NaN  \n",
       "\n",
       "[252 rows x 6 columns]"
      ]
     },
     "execution_count": 32,
     "metadata": {},
     "output_type": "execute_result"
    }
   ],
   "source": [
    "dfs[0]"
   ]
  },
  {
   "cell_type": "raw",
   "id": "30c54430-5d8e-4b16-887e-6750452aec79",
   "metadata": {},
   "source": [
    "function of (match='Country') is that it matches with one of the columns of the tables"
   ]
  },
  {
   "cell_type": "raw",
   "id": "ba12295a-d91a-401b-ad38-26e9d965087f",
   "metadata": {},
   "source": [
    "Read Excel Files"
   ]
  },
  {
   "cell_type": "raw",
   "id": "29a6c617-a1c6-40de-a0d7-e5ccd4327272",
   "metadata": {},
   "source": [
    "df_excel=pd.read_excel('Excel_Sample.xlsx')"
   ]
  },
  {
   "cell_type": "raw",
   "id": "d4e6cc04-5c7b-470e-a36c-683d1e2c5981",
   "metadata": {},
   "source": [
    "df.excel.head()"
   ]
  },
  {
   "cell_type": "raw",
   "id": "b98f45c8-1be2-4c40-b8d0-e70e9aafbe38",
   "metadata": {},
   "source": [
    "you can give sheet name as well"
   ]
  },
  {
   "cell_type": "raw",
   "id": "dce803cc-38e5-4491-9499-df9ba3a0e0e4",
   "metadata": {},
   "source": [
    "df_excel=pd.read_excel('Excel_sample.xlsx','sheet_name=0')"
   ]
  },
  {
   "cell_type": "raw",
   "id": "eea356dc-c750-4a90-9491-ce959612a052",
   "metadata": {},
   "source": [
    "Pickling:-\n",
    "\n",
    "All pandas object are equipped with to_pickle methods which use Python's cPickle module to save data structures to disk using pickle format"
   ]
  },
  {
   "cell_type": "raw",
   "id": "10cfb36d-ca9c-425c-ab2a-8e91b9ddb01a",
   "metadata": {},
   "source": [
    "df_excel.to_pickle('df_excel')\n",
    "\n",
    "df=pd.read_pickle('df_excel')\n",
    "\n",
    "df.head()"
   ]
  }
 ],
 "metadata": {
  "kernelspec": {
   "display_name": "Python 3 (ipykernel)",
   "language": "python",
   "name": "python3"
  },
  "language_info": {
   "codemirror_mode": {
    "name": "ipython",
    "version": 3
   },
   "file_extension": ".py",
   "mimetype": "text/x-python",
   "name": "python",
   "nbconvert_exporter": "python",
   "pygments_lexer": "ipython3",
   "version": "3.12.4"
  }
 },
 "nbformat": 4,
 "nbformat_minor": 5
}
