{
 "cells": [
  {
   "cell_type": "raw",
   "id": "6c63e712-798f-44e5-835a-c031802839fc",
   "metadata": {},
   "source": [
    "Numpy\n",
    "Numpy is a general purpose array processing package. It provides a high-performance multidimensional array object, and tools for working with arrays. It is the fundamental package for scientific computing with python."
   ]
  },
  {
   "cell_type": "raw",
   "id": "5df4b0f2-2019-4d56-864d-770520d3605e",
   "metadata": {},
   "source": [
    "What is an array\n",
    "\n",
    "An array is a data structure that stores values of same data type. This is the main difference between arrays and lists. Just like in C++, Python arrays are same.  "
   ]
  },
  {
   "cell_type": "code",
   "execution_count": 1,
   "id": "263744b7-9ea9-4687-ad9e-f5af92980db7",
   "metadata": {},
   "outputs": [],
   "source": [
    "import numpy as np"
   ]
  },
  {
   "cell_type": "code",
   "execution_count": 3,
   "id": "d9064236-afc8-4ed6-a894-252d4d1afdf5",
   "metadata": {},
   "outputs": [],
   "source": [
    "my_list=[1,2,3,4,5]\n",
    "arr=np.array(my_lst)\n",
    "#this converts a list into an array using the inbuilt function in numpy"
   ]
  },
  {
   "cell_type": "code",
   "execution_count": 8,
   "id": "34381208-cfce-42ae-b1ad-b315025aed6c",
   "metadata": {},
   "outputs": [
    {
     "name": "stdout",
     "output_type": "stream",
     "text": [
      "[1 2 3 4 5]\n"
     ]
    }
   ],
   "source": [
    "print (arr)"
   ]
  },
  {
   "cell_type": "raw",
   "id": "735ff668-fff6-4b44-91f5-87843f6e8c6d",
   "metadata": {},
   "source": [
    "Inbuilt array functions"
   ]
  },
  {
   "cell_type": "raw",
   "id": "7fc250e6-3fd5-4f60-a032-2716beec073a",
   "metadata": {},
   "source": [
    "Shape function:-\n",
    "this function gives the number of rows and columns in an array. For one dimensional array, it gives number of elements"
   ]
  },
  {
   "cell_type": "code",
   "execution_count": 7,
   "id": "7869d012-f6b6-4002-8f8b-34e196131aa3",
   "metadata": {},
   "outputs": [
    {
     "data": {
      "text/plain": [
       "(5,)"
      ]
     },
     "execution_count": 7,
     "metadata": {},
     "output_type": "execute_result"
    }
   ],
   "source": [
    "arr.shape"
   ]
  },
  {
   "cell_type": "raw",
   "id": "c87340bb-d91f-4a98-b2ef-70d3450224fb",
   "metadata": {},
   "source": [
    "Reshape function:-\n",
    "this function reshapes an array into desired shape"
   ]
  },
  {
   "cell_type": "code",
   "execution_count": null,
   "id": "d4b5c9a6-3225-45bb-83f8-eb7de4091867",
   "metadata": {},
   "outputs": [],
   "source": [
    "arr.shape()"
   ]
  },
  {
   "cell_type": "code",
   "execution_count": 14,
   "id": "fe93cec8-46b0-4ef5-8b31-1cd85193c13b",
   "metadata": {},
   "outputs": [],
   "source": [
    "#multinested array\n",
    "my_lst1=[1,2,3]\n",
    "my_lst2=[4,5,6]\n",
    "my_lst3=[7,8,9]"
   ]
  },
  {
   "cell_type": "code",
   "execution_count": 16,
   "id": "b4f7255b-c140-406a-8518-4decac029ec3",
   "metadata": {},
   "outputs": [],
   "source": [
    "arr=np.array([my_lst1,my_lst2,my_lst3])"
   ]
  },
  {
   "cell_type": "code",
   "execution_count": 20,
   "id": "64c1c746-124e-42e3-b7ea-522b3498ecc5",
   "metadata": {},
   "outputs": [
    {
     "data": {
      "text/plain": [
       "array([[1, 2, 3],\n",
       "       [4, 5, 6],\n",
       "       [7, 8, 9]])"
      ]
     },
     "execution_count": 20,
     "metadata": {},
     "output_type": "execute_result"
    }
   ],
   "source": [
    "arr"
   ]
  },
  {
   "cell_type": "code",
   "execution_count": 21,
   "id": "f10953ac-a1f4-4b0a-b469-dcb6f590f949",
   "metadata": {},
   "outputs": [
    {
     "data": {
      "text/plain": [
       "(3, 3)"
      ]
     },
     "execution_count": 21,
     "metadata": {},
     "output_type": "execute_result"
    }
   ],
   "source": [
    "arr.shape"
   ]
  },
  {
   "cell_type": "code",
   "execution_count": 22,
   "id": "e653e46b-c6e7-4323-a147-ddf21ad9ab84",
   "metadata": {},
   "outputs": [
    {
     "data": {
      "text/plain": [
       "array([[1, 2, 3],\n",
       "       [4, 5, 6],\n",
       "       [7, 8, 9]])"
      ]
     },
     "execution_count": 22,
     "metadata": {},
     "output_type": "execute_result"
    }
   ],
   "source": [
    "arr.reshape(3,3)"
   ]
  },
  {
   "cell_type": "raw",
   "id": "53c14384-049e-452f-b3f8-43d741dcaf22",
   "metadata": {},
   "source": [
    "Indexing\n",
    "Indexing is the position of where values of an array are present"
   ]
  },
  {
   "cell_type": "code",
   "execution_count": 23,
   "id": "d6e76d90-0cfd-4d5b-80b8-6f0fb993cae6",
   "metadata": {},
   "outputs": [],
   "source": [
    "arr=np.array([1,2,3,4,5,6,7,8,9,10])"
   ]
  },
  {
   "cell_type": "code",
   "execution_count": 24,
   "id": "28d77406-c7f6-4ee4-b5c2-d55e5b926961",
   "metadata": {},
   "outputs": [
    {
     "data": {
      "text/plain": [
       "4"
      ]
     },
     "execution_count": 24,
     "metadata": {},
     "output_type": "execute_result"
    }
   ],
   "source": [
    "arr[3]"
   ]
  },
  {
   "cell_type": "code",
   "execution_count": 27,
   "id": "d13a0165-51bd-46a5-9593-968ba3b870a7",
   "metadata": {},
   "outputs": [],
   "source": [
    "#if 2 dimensional array\n",
    "my_lst1=[1,2,3]\n",
    "my_lst2=[4,5,6]\n",
    "my_lst3=[7,8,9]\n",
    "arr=np.array([my_lst1,my_lst2,my_lst3])"
   ]
  },
  {
   "cell_type": "code",
   "execution_count": 28,
   "id": "772f89df-1b49-4760-aec1-64a718a976a2",
   "metadata": {},
   "outputs": [
    {
     "data": {
      "text/plain": [
       "array([[1, 2, 3],\n",
       "       [4, 5, 6],\n",
       "       [7, 8, 9]])"
      ]
     },
     "execution_count": 28,
     "metadata": {},
     "output_type": "execute_result"
    }
   ],
   "source": [
    "arr[:,:]\n",
    "#this picks up all the elements\n"
   ]
  },
  {
   "cell_type": "code",
   "execution_count": 29,
   "id": "a41d7c5d-6b7f-4a32-8d3c-63004f78abf9",
   "metadata": {},
   "outputs": [
    {
     "data": {
      "text/plain": [
       "array([[1, 2, 3],\n",
       "       [4, 5, 6]])"
      ]
     },
     "execution_count": 29,
     "metadata": {},
     "output_type": "execute_result"
    }
   ],
   "source": [
    "arr[0:2,:]\n",
    "#this picks up 1st and 2nd row"
   ]
  },
  {
   "cell_type": "code",
   "execution_count": 31,
   "id": "877c9aef-d2df-47af-83b6-f860b98d4fb4",
   "metadata": {},
   "outputs": [
    {
     "data": {
      "text/plain": [
       "array([[1, 2],\n",
       "       [4, 5]])"
      ]
     },
     "execution_count": 31,
     "metadata": {},
     "output_type": "execute_result"
    }
   ],
   "source": [
    "arr[0:2,0:2]\n",
    "#this picks up 1 and 2nd row and column"
   ]
  },
  {
   "cell_type": "code",
   "execution_count": 33,
   "id": "af567522-d1ba-4527-beaa-54c160b17139",
   "metadata": {},
   "outputs": [
    {
     "data": {
      "text/plain": [
       "array([[6],\n",
       "       [9]])"
      ]
     },
     "execution_count": 33,
     "metadata": {},
     "output_type": "execute_result"
    }
   ],
   "source": [
    "arr[1:,2:]\n",
    "#this picks up only 6 and 9"
   ]
  },
  {
   "cell_type": "code",
   "execution_count": 34,
   "id": "ea6bffa8-6b4e-4053-8219-76d6f0222371",
   "metadata": {},
   "outputs": [],
   "source": [
    "my_lst1=[1,2,3,4,5]\n",
    "my_lst2=[2,3,4,5,6]\n",
    "my_lst3=[9,7,6,8,9]\n",
    "arr=np.array([my_lst1,my_lst2,my_lst3])"
   ]
  },
  {
   "cell_type": "code",
   "execution_count": 49,
   "id": "1014b42f-9cc1-45fb-8bca-2f28adde7e89",
   "metadata": {},
   "outputs": [
    {
     "data": {
      "text/plain": [
       "array([[4, 5],\n",
       "       [6, 8]])"
      ]
     },
     "execution_count": 49,
     "metadata": {},
     "output_type": "execute_result"
    }
   ],
   "source": [
    "arr[1:3,2:4]\n",
    "#assignment by him"
   ]
  },
  {
   "cell_type": "raw",
   "id": "2a7c78e6-14fa-4f87-91e8-9f755e0aeb81",
   "metadata": {},
   "source": [
    "arr[1:2,1:4]\n",
    "#assingmment by him"
   ]
  },
  {
   "cell_type": "raw",
   "id": "053c096d-e2f2-4918-8bb1-3cea1059022b",
   "metadata": {},
   "source": [
    "Arange Function\n",
    "makes array from start to stop point values\n",
    "\n"
   ]
  },
  {
   "cell_type": "code",
   "execution_count": 55,
   "id": "055d5578-9640-4ea3-83d4-4f9725d7bff2",
   "metadata": {},
   "outputs": [],
   "source": [
    "arr=np.arange(0,10)"
   ]
  },
  {
   "cell_type": "code",
   "execution_count": 56,
   "id": "63d06607-39c0-41d7-b406-f7b97e247d7b",
   "metadata": {},
   "outputs": [
    {
     "data": {
      "text/plain": [
       "array([0, 1, 2, 3, 4, 5, 6, 7, 8, 9])"
      ]
     },
     "execution_count": 56,
     "metadata": {},
     "output_type": "execute_result"
    }
   ],
   "source": [
    "arr"
   ]
  },
  {
   "cell_type": "raw",
   "id": "57523870-20e1-468f-ae29-30b084fb220d",
   "metadata": {},
   "source": [
    "Linspace function\n",
    "makes array with element from start to stop point but equally divided in given number."
   ]
  },
  {
   "cell_type": "code",
   "execution_count": 57,
   "id": "6be0a9c2-0c6b-4e18-93ab-24f223a1032c",
   "metadata": {},
   "outputs": [
    {
     "data": {
      "text/plain": [
       "array([ 1.        ,  1.18367347,  1.36734694,  1.55102041,  1.73469388,\n",
       "        1.91836735,  2.10204082,  2.28571429,  2.46938776,  2.65306122,\n",
       "        2.83673469,  3.02040816,  3.20408163,  3.3877551 ,  3.57142857,\n",
       "        3.75510204,  3.93877551,  4.12244898,  4.30612245,  4.48979592,\n",
       "        4.67346939,  4.85714286,  5.04081633,  5.2244898 ,  5.40816327,\n",
       "        5.59183673,  5.7755102 ,  5.95918367,  6.14285714,  6.32653061,\n",
       "        6.51020408,  6.69387755,  6.87755102,  7.06122449,  7.24489796,\n",
       "        7.42857143,  7.6122449 ,  7.79591837,  7.97959184,  8.16326531,\n",
       "        8.34693878,  8.53061224,  8.71428571,  8.89795918,  9.08163265,\n",
       "        9.26530612,  9.44897959,  9.63265306,  9.81632653, 10.        ])"
      ]
     },
     "execution_count": 57,
     "metadata": {},
     "output_type": "execute_result"
    }
   ],
   "source": [
    "np.linspace(1,10,50)"
   ]
  },
  {
   "cell_type": "raw",
   "id": "3495202e-a1d5-4652-b289-43bae1c7ec24",
   "metadata": {},
   "source": [
    "Copy function and broadcasting\n",
    "basically replaces the elements of an array with a given value"
   ]
  },
  {
   "cell_type": "code",
   "execution_count": 58,
   "id": "bc957aa3-2b01-4e49-b6e9-7694f4956fd6",
   "metadata": {},
   "outputs": [],
   "source": [
    "arr[3:]=100"
   ]
  },
  {
   "cell_type": "raw",
   "id": "04d04bab-8cd4-44a1-ad21-5e61c767317b",
   "metadata": {},
   "source": [
    "arr"
   ]
  },
  {
   "cell_type": "raw",
   "id": "2b512a25-b50b-4c38-a762-7fa5bc214c40",
   "metadata": {},
   "source": [
    "Some conditions very useful in exploratory data analysis"
   ]
  },
  {
   "cell_type": "code",
   "execution_count": 60,
   "id": "d72233bf-47f6-43e0-8804-6ac99db7a75b",
   "metadata": {},
   "outputs": [
    {
     "data": {
      "text/plain": [
       "array([0, 1])"
      ]
     },
     "execution_count": 60,
     "metadata": {},
     "output_type": "execute_result"
    }
   ],
   "source": [
    "val =2\n",
    "arr[arr<val]"
   ]
  },
  {
   "cell_type": "code",
   "execution_count": 61,
   "id": "ab381471-22c1-4d31-9bd5-ff6b10b75b9e",
   "metadata": {},
   "outputs": [
    {
     "data": {
      "text/plain": [
       "array([  0,   2,   4, 200, 200, 200, 200, 200, 200, 200])"
      ]
     },
     "execution_count": 61,
     "metadata": {},
     "output_type": "execute_result"
    }
   ],
   "source": [
    "arr*2"
   ]
  },
  {
   "cell_type": "code",
   "execution_count": 62,
   "id": "89bb24a7-0577-42c0-b2ff-8f9b3d6002a6",
   "metadata": {},
   "outputs": [
    {
     "data": {
      "text/plain": [
       "array([ True,  True, False, False, False, False, False, False, False,\n",
       "       False])"
      ]
     },
     "execution_count": 62,
     "metadata": {},
     "output_type": "execute_result"
    }
   ],
   "source": [
    "arr<2"
   ]
  },
  {
   "cell_type": "raw",
   "id": "5ce4b168-711d-4158-967d-3ed181425c49",
   "metadata": {},
   "source": [
    "Ones function\n",
    "\n",
    "makes an array where all elements are 1"
   ]
  },
  {
   "cell_type": "code",
   "execution_count": 66,
   "id": "97a8c9ab-01ce-47c6-a01f-175c83096c5f",
   "metadata": {},
   "outputs": [
    {
     "data": {
      "text/plain": [
       "array([[1, 1, 1, 1, 1],\n",
       "       [1, 1, 1, 1, 1]])"
      ]
     },
     "execution_count": 66,
     "metadata": {},
     "output_type": "execute_result"
    }
   ],
   "source": [
    "np.ones((2,5),dtype=int)\n",
    "#by default dtype is float"
   ]
  },
  {
   "cell_type": "raw",
   "id": "23092563-b717-460c-ba1b-784cb7e1eb8e",
   "metadata": {},
   "source": [
    "Random distribution"
   ]
  },
  {
   "cell_type": "code",
   "execution_count": 68,
   "id": "3b6a577b-d4d1-4326-a204-7d0a154986fb",
   "metadata": {},
   "outputs": [
    {
     "data": {
      "text/plain": [
       "array([[0.80147151, 0.34018245, 0.08432774],\n",
       "       [0.76163241, 0.10873692, 0.69413611],\n",
       "       [0.54705858, 0.34543372, 0.33646171]])"
      ]
     },
     "execution_count": 68,
     "metadata": {},
     "output_type": "execute_result"
    }
   ],
   "source": [
    "np.random.rand(3,3)"
   ]
  },
  {
   "cell_type": "raw",
   "id": "8d42d084-b401-446d-8dbb-525daaac4175",
   "metadata": {},
   "source": [
    "makes an array of random variables of given shape, between 0 and 1 by default"
   ]
  },
  {
   "cell_type": "code",
   "execution_count": 70,
   "id": "a8190fc2-427c-4e99-90e5-e5e88e78f47b",
   "metadata": {},
   "outputs": [
    {
     "data": {
      "text/plain": [
       "array([[-1.69667542, -1.72469106, -1.18051048],\n",
       "       [ 1.39953804,  0.38520771, -0.12116447],\n",
       "       [-0.15469917, -1.52077794,  0.49798417]])"
      ]
     },
     "execution_count": 70,
     "metadata": {},
     "output_type": "execute_result"
    }
   ],
   "source": [
    "np.random.randn(3,3)\n",
    "#makes an array of random variables from standarad normal distribution"
   ]
  },
  {
   "cell_type": "code",
   "execution_count": null,
   "id": "48830209-ecff-4387-8220-ac43f6e8ee12",
   "metadata": {},
   "outputs": [],
   "source": []
  }
 ],
 "metadata": {
  "kernelspec": {
   "display_name": "Python 3 (ipykernel)",
   "language": "python",
   "name": "python3"
  },
  "language_info": {
   "codemirror_mode": {
    "name": "ipython",
    "version": 3
   },
   "file_extension": ".py",
   "mimetype": "text/x-python",
   "name": "python",
   "nbconvert_exporter": "python",
   "pygments_lexer": "ipython3",
   "version": "3.12.4"
  }
 },
 "nbformat": 4,
 "nbformat_minor": 5
}
