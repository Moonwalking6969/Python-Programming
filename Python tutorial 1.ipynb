{
 "cells": [
  {
   "cell_type": "raw",
   "id": "321a686d-90c3-47bc-99cc-69d76890bd55",
   "metadata": {},
   "source": [
    "Basics of Python "
   ]
  },
  {
   "cell_type": "raw",
   "id": "16454303-511c-4b4e-820f-357a8ff8826f",
   "metadata": {},
   "source": [
    "Various DataTypes in Python"
   ]
  },
  {
   "cell_type": "raw",
   "id": "b1a330d7-e2a1-4857-a5af-1dd317f15012",
   "metadata": {},
   "source": [
    "Comments:-"
   ]
  },
  {
   "cell_type": "raw",
   "id": "c9865b5d-9de4-47d0-8775-64db0af47236",
   "metadata": {},
   "source": [
    "One liner:-"
   ]
  },
  {
   "cell_type": "code",
   "execution_count": null,
   "id": "19e20e0e-4902-4a04-a996-9c55470fb929",
   "metadata": {},
   "outputs": [],
   "source": [
    "#Hello World"
   ]
  },
  {
   "cell_type": "raw",
   "id": "967f49d3-0f7e-466c-a802-d7a3b26939ab",
   "metadata": {},
   "source": [
    "Multiple Line:-"
   ]
  },
  {
   "cell_type": "code",
   "execution_count": null,
   "id": "91e1b125-36f3-46f8-bea8-5575f846a74a",
   "metadata": {},
   "outputs": [],
   "source": [
    "'''Hello World. \n",
    "Python is powerful.'''"
   ]
  },
  {
   "cell_type": "raw",
   "id": "8f79f456-1cc5-40d5-91da-b56c869e9a90",
   "metadata": {},
   "source": [
    "Text Type:-"
   ]
  },
  {
   "cell_type": "code",
   "execution_count": null,
   "id": "996d05d1-463b-49e8-ad2a-23118b91213f",
   "metadata": {},
   "outputs": [],
   "source": [
    "str"
   ]
  },
  {
   "cell_type": "raw",
   "id": "ae7698ac-c8a9-4e9b-a9bc-59db55b8b7c0",
   "metadata": {},
   "source": [
    "Numeric type"
   ]
  },
  {
   "cell_type": "code",
   "execution_count": null,
   "id": "207fcbfb-bcfa-4a1e-9d24-91b14793ed26",
   "metadata": {},
   "outputs": [],
   "source": [
    "int,float,complex"
   ]
  },
  {
   "cell_type": "raw",
   "id": "10bbd883-092d-4e5a-8ff7-2db2395a4996",
   "metadata": {},
   "source": [
    "Sequence types:-"
   ]
  },
  {
   "cell_type": "code",
   "execution_count": null,
   "id": "290cde69-7bc0-49dc-8e16-2990b62b4613",
   "metadata": {},
   "outputs": [],
   "source": [
    "list,tuple,range"
   ]
  },
  {
   "cell_type": "raw",
   "id": "3035d0d6-8b07-451f-a8a9-29474a0b6a45",
   "metadata": {},
   "source": [
    "Mapping Type:-"
   ]
  },
  {
   "cell_type": "code",
   "execution_count": null,
   "id": "e8844826-5c92-46ee-bba0-be3d8f351cca",
   "metadata": {},
   "outputs": [],
   "source": [
    "dict"
   ]
  },
  {
   "cell_type": "raw",
   "id": "d6274e80-07b1-4e6d-8447-6bf590adbcca",
   "metadata": {},
   "source": [
    "Set types:-"
   ]
  },
  {
   "cell_type": "code",
   "execution_count": null,
   "id": "297da9cc-80d8-4cda-b52e-b5cba7ef6e1c",
   "metadata": {},
   "outputs": [],
   "source": [
    "Set,frozenset"
   ]
  },
  {
   "cell_type": "raw",
   "id": "4bdffaa1-4e6e-4f78-ad51-31f3e90e6073",
   "metadata": {},
   "source": []
  },
  {
   "cell_type": "markdown",
   "id": "bdd8d4d4-e732-4f48-b733-c1fbf04475d1",
   "metadata": {},
   "source": [
    "Boolean types:-"
   ]
  },
  {
   "cell_type": "code",
   "execution_count": null,
   "id": "306016ce-c2f9-4ee3-bc81-58cd36fa74bd",
   "metadata": {},
   "outputs": [],
   "source": [
    "bool"
   ]
  },
  {
   "cell_type": "raw",
   "id": "4e32b172-2351-479c-b6f0-f9bcc51a270b",
   "metadata": {},
   "source": [
    "Binary types:-"
   ]
  },
  {
   "cell_type": "code",
   "execution_count": null,
   "id": "ecf92c2c-e929-4d32-bf69-bc07803c1601",
   "metadata": {},
   "outputs": [],
   "source": [
    "bytes,bytearray,memoryview"
   ]
  },
  {
   "cell_type": "raw",
   "id": "bb7852a3-7162-4363-9ff2-4863577bd333",
   "metadata": {},
   "source": [
    "None type"
   ]
  },
  {
   "cell_type": "code",
   "execution_count": null,
   "id": "1caaf94b-cbc0-4545-8c8f-c2d2dc74909a",
   "metadata": {},
   "outputs": [],
   "source": [
    "NoneType"
   ]
  },
  {
   "cell_type": "raw",
   "id": "991c3ce1-5f84-4168-bf06-579e03425ad7",
   "metadata": {},
   "source": [
    "How to check datatype:-"
   ]
  },
  {
   "cell_type": "code",
   "execution_count": null,
   "id": "0a2b694c-5630-4af3-988b-619338f73e66",
   "metadata": {},
   "outputs": [],
   "source": [
    "type()"
   ]
  },
  {
   "cell_type": "code",
   "execution_count": null,
   "id": "b9cfafb7-0f83-49e1-bd85-31dd60711e52",
   "metadata": {},
   "outputs": [],
   "source": [
    "type(1)"
   ]
  },
  {
   "cell_type": "code",
   "execution_count": 5,
   "id": "6a883286-1748-4e86-b9f3-e77fa34be076",
   "metadata": {},
   "outputs": [
    {
     "data": {
      "text/plain": [
       "str"
      ]
     },
     "execution_count": 5,
     "metadata": {},
     "output_type": "execute_result"
    }
   ],
   "source": [
    "type(\"c\")"
   ]
  },
  {
   "cell_type": "raw",
   "id": "e2327e58-2725-495a-8c7d-b0c6c2a2824e",
   "metadata": {},
   "source": [
    "Variable assignment"
   ]
  },
  {
   "cell_type": "code",
   "execution_count": null,
   "id": "f2251f23-6ce5-4d4b-8e98-271f8f5f29ee",
   "metadata": {},
   "outputs": [],
   "source": [
    "vairable_name=values"
   ]
  },
  {
   "cell_type": "raw",
   "id": "f0c00e5b-7341-4818-bc09-6814712dae1b",
   "metadata": {},
   "source": [
    "Mathemical operation with variable assignment"
   ]
  },
  {
   "cell_type": "code",
   "execution_count": 6,
   "id": "a396bb78-7633-413b-b226-6e7ce9cd12d4",
   "metadata": {},
   "outputs": [],
   "source": [
    "a=10\n",
    "b=20"
   ]
  },
  {
   "cell_type": "code",
   "execution_count": 7,
   "id": "a8bc9d04-fd8d-4ab1-b9a3-ba4a4fd678a9",
   "metadata": {},
   "outputs": [
    {
     "name": "stdout",
     "output_type": "stream",
     "text": [
      "200\n",
      "0.5\n",
      "10\n"
     ]
    }
   ],
   "source": [
    "print(a*b)\n",
    "print(a/b)\n",
    "print(a%b)"
   ]
  },
  {
   "cell_type": "raw",
   "id": "1b184552-e989-4d4f-ad5e-9f2b0b2f746d",
   "metadata": {},
   "source": [
    "Various ways of Printing"
   ]
  },
  {
   "cell_type": "code",
   "execution_count": null,
   "id": "9fc013e4-38cd-41da-9463-e8583a2061a4",
   "metadata": {},
   "outputs": [],
   "source": [
    "print(\"hello\")"
   ]
  },
  {
   "cell_type": "code",
   "execution_count": 11,
   "id": "a6ae523d-9901-4976-a8dc-a9ddd13e2735",
   "metadata": {},
   "outputs": [],
   "source": [
    "first_name=\"Adam\"\n",
    "second_name=\"Stuart\""
   ]
  },
  {
   "cell_type": "code",
   "execution_count": 14,
   "id": "8536758f-4b4a-4919-846c-ca8ecee5d2f9",
   "metadata": {},
   "outputs": [
    {
     "name": "stdout",
     "output_type": "stream",
     "text": [
      "My Name is Adam Stuart\n",
      "My name is Adam Stuart\n"
     ]
    }
   ],
   "source": [
    "print(\"My Name is {} {}\".format(first_name,second_name))\n",
    "print(\"My name is {first} {last}\".format(first=first_name,last=second_name))"
   ]
  },
  {
   "cell_type": "raw",
   "id": "efe19391-edb2-4dbb-9fe2-018cc1718ba5",
   "metadata": {},
   "source": [
    "In-built Functions"
   ]
  },
  {
   "cell_type": "raw",
   "id": "ff4a819f-47fc-4620-a95f-b3a4b2200066",
   "metadata": {},
   "source": [
    "type()              returns datatype\n",
    "len()               returns length of string\n",
    "abs()               returns absolute value of a number\n",
    "float()             returns floating point number \n",
    "input()             allows user input\n",
    "round()             rounds off a number"
   ]
  },
  {
   "cell_type": "raw",
   "id": "d82d70e1-6ee9-4bdf-b2ac-7dddba08ecac",
   "metadata": {},
   "source": [
    "Python Data Structures and Boolean:-"
   ]
  },
  {
   "cell_type": "raw",
   "id": "e03c4eb6-3019-4d53-a2e1-60d447d7336d",
   "metadata": {},
   "source": [
    "Bool:-\n",
    "True,False\n",
    "created by using bool() function"
   ]
  },
  {
   "cell_type": "code",
   "execution_count": 15,
   "id": "ae00d266-a6c9-4bb3-83ff-89e4179efb4b",
   "metadata": {},
   "outputs": [
    {
     "data": {
      "text/plain": [
       "False"
      ]
     },
     "execution_count": 15,
     "metadata": {},
     "output_type": "execute_result"
    }
   ],
   "source": [
    "False"
   ]
  },
  {
   "cell_type": "code",
   "execution_count": 16,
   "id": "92f2107d-7eec-430a-8a08-98f64f7edbba",
   "metadata": {},
   "outputs": [
    {
     "name": "stdout",
     "output_type": "stream",
     "text": [
      "True False\n"
     ]
    }
   ],
   "source": [
    "print(True,False)"
   ]
  },
  {
   "cell_type": "raw",
   "id": "d9686b74-b6bd-4283-a812-2058036ca8b8",
   "metadata": {},
   "source": [
    "Boolean Functions:-"
   ]
  },
  {
   "cell_type": "raw",
   "id": "2645c36c-f84b-41d2-baee-25fe7af579b0",
   "metadata": {},
   "source": [
    "Functions                                    what they do\n",
    "isalnum()                         checks if all char are number\n",
    "isalpha()                         checks if all char are alphabets\n",
    "isdigit()                         checks if all char are digits\n",
    "istitle()                         checks if it contains title case\n",
    "isupper()                         checks if it contains upper case\n",
    "islower()                         checks if it contains lower case\n",
    "isspace()                         checks if it contains space\n",
    "endswith()                        checks if it ends with given char or string\n",
    "startswith()                      checks if it starts with given char or string\n",
    "\n",
    "They all return True or False"
   ]
  },
  {
   "cell_type": "raw",
   "id": "d6391baa-797e-4505-997e-39ef8c51984f",
   "metadata": {},
   "source": [
    "Boolean and Logical Operator:-"
   ]
  },
  {
   "cell_type": "code",
   "execution_count": 17,
   "id": "975d6cb0-98d5-4b5e-83ef-c1c5dd683f4e",
   "metadata": {},
   "outputs": [
    {
     "data": {
      "text/plain": [
       "True"
      ]
     },
     "execution_count": 17,
     "metadata": {},
     "output_type": "execute_result"
    }
   ],
   "source": [
    "True and True"
   ]
  },
  {
   "cell_type": "code",
   "execution_count": 18,
   "id": "1cbb1106-0d20-4e02-922e-cde15fe669be",
   "metadata": {},
   "outputs": [
    {
     "data": {
      "text/plain": [
       "False"
      ]
     },
     "execution_count": 18,
     "metadata": {},
     "output_type": "execute_result"
    }
   ],
   "source": [
    "True and False"
   ]
  },
  {
   "cell_type": "raw",
   "id": "c3d7d9c2-40fe-4b0c-9652-030f0a1b640e",
   "metadata": {},
   "source": [
    "List:-"
   ]
  },
  {
   "cell_type": "raw",
   "id": "f08e09d0-72af-4950-9cbf-8ce3c0b6a5b4",
   "metadata": {},
   "source": [
    "A list is a data structure in Python that is a mutable or changeable, ordered sequence of elements. Each element of a list is called an item"
   ]
  },
  {
   "cell_type": "code",
   "execution_count": 19,
   "id": "4ec5ca66-2a3b-4570-906a-e1273030b823",
   "metadata": {},
   "outputs": [],
   "source": [
    "#list_name=[items]"
   ]
  },
  {
   "cell_type": "code",
   "execution_count": 20,
   "id": "ac5f0bd7-157f-4334-a7b4-ad5dc85aabfe",
   "metadata": {},
   "outputs": [],
   "source": [
    "list = ['Mathematics', 100, 1000, 20.0]"
   ]
  },
  {
   "cell_type": "raw",
   "id": "7246b7b8-8929-4fec-8851-9d0630d24227",
   "metadata": {},
   "source": [
    "List inbuilt functions"
   ]
  },
  {
   "cell_type": "raw",
   "id": "d0fbc17e-d6dd-4a8d-a4c0-678eb3741863",
   "metadata": {},
   "source": [
    "Append:-\n",
    "used to add elements to a list"
   ]
  },
  {
   "cell_type": "code",
   "execution_count": 23,
   "id": "aa6fa983-55b5-4f5a-818b-54115d21947e",
   "metadata": {},
   "outputs": [],
   "source": [
    "list.append(\"Economics\")"
   ]
  },
  {
   "cell_type": "code",
   "execution_count": 24,
   "id": "7f1b88a4-a66e-4945-85f3-de8f7fa7ac00",
   "metadata": {},
   "outputs": [
    {
     "data": {
      "text/plain": [
       "['Mathematics', 100, 1000, 20.0, 'Economics', 'Economics', 'Economics']"
      ]
     },
     "execution_count": 24,
     "metadata": {},
     "output_type": "execute_result"
    }
   ],
   "source": [
    "list"
   ]
  },
  {
   "cell_type": "raw",
   "id": "d4660da5-d5be-439e-bbd1-cc746dd8647e",
   "metadata": {},
   "source": [
    "Insert:-\n",
    "inserts item at a specific order"
   ]
  },
  {
   "cell_type": "code",
   "execution_count": 25,
   "id": "fec0d3dd-e7b5-4b88-b272-342aa3b6688b",
   "metadata": {},
   "outputs": [],
   "source": [
    "list.insert(4,\"Biology\")"
   ]
  },
  {
   "cell_type": "code",
   "execution_count": 26,
   "id": "85919baa-a43f-42ef-bb50-c3af33ebe38b",
   "metadata": {},
   "outputs": [
    {
     "data": {
      "text/plain": [
       "['Mathematics',\n",
       " 100,\n",
       " 1000,\n",
       " 20.0,\n",
       " 'Biology',\n",
       " 'Economics',\n",
       " 'Economics',\n",
       " 'Economics']"
      ]
     },
     "execution_count": 26,
     "metadata": {},
     "output_type": "execute_result"
    }
   ],
   "source": [
    "list"
   ]
  },
  {
   "cell_type": "raw",
   "id": "433ba4b1-99ba-4d7d-ac9e-78c43ac7c6b7",
   "metadata": {},
   "source": [
    "Extend:-\n",
    "inserts a list into a list"
   ]
  },
  {
   "cell_type": "code",
   "execution_count": 27,
   "id": "fdf1878c-ef6c-4688-9461-4953ebee98f0",
   "metadata": {},
   "outputs": [],
   "source": [
    "list.extend([\"English\",20,40,29,10])"
   ]
  },
  {
   "cell_type": "raw",
   "id": "7ddd51a4-5190-43e1-8ceb-d9fe93cf6296",
   "metadata": {},
   "source": [
    "Operations to perform on a list\n",
    "\n",
    "Sum:-\n",
    "sums the whole list\n",
    "\n",
    "Pop:-\n",
    "removes the last element\n",
    "if you want to remove element at a certain index,\n",
    "list_name.pop(index)\n",
    "\n",
    "Count:-\n",
    "Counts the items of the list\n",
    "\n",
    "Length:-\n",
    "Gives length of list\n",
    "\n",
    "Index:-\n",
    "returns index of first occurence of that element\n",
    "\n",
    "Min and Max:-\n",
    "returns min or max from a list"
   ]
  },
  {
   "cell_type": "raw",
   "id": "212d0c6b-75ad-4b57-91d9-1ff23a4913b2",
   "metadata": {},
   "source": [
    "Sets:-\n",
    "It is an ordered collection datatype that is iterable, mutable and has no duplicate element. Theres no indexing in sets.\n",
    "\n",
    "Defining an empty set:-\n",
    "done by calling in-built function"
   ]
  },
  {
   "cell_type": "code",
   "execution_count": 28,
   "id": "af5f8ad6-c0dd-4fc9-bf61-92e4418679f3",
   "metadata": {},
   "outputs": [
    {
     "data": {
      "text/plain": [
       "set()"
      ]
     },
     "execution_count": 28,
     "metadata": {},
     "output_type": "execute_result"
    }
   ],
   "source": [
    "set()"
   ]
  },
  {
   "cell_type": "code",
   "execution_count": 29,
   "id": "fa778a7e-df5b-4311-a7ea-35495d6c910a",
   "metadata": {},
   "outputs": [
    {
     "name": "stdout",
     "output_type": "stream",
     "text": [
      "set()\n"
     ]
    }
   ],
   "source": [
    "set_var=set()\n",
    "print(set_var)"
   ]
  },
  {
   "cell_type": "raw",
   "id": "00a6ffab-5c7c-49d8-a784-8bab81951d2b",
   "metadata": {},
   "source": [
    "Putting elements in a set"
   ]
  },
  {
   "cell_type": "code",
   "execution_count": 30,
   "id": "bffa9d25-94c5-4038-977e-b343b0ce2c8d",
   "metadata": {},
   "outputs": [],
   "source": [
    "set_var = {\"Lahore\", \"Kohat\",\"Karachi\"}"
   ]
  },
  {
   "cell_type": "code",
   "execution_count": 31,
   "id": "02657902-6343-4897-a6e2-70bdc880db53",
   "metadata": {},
   "outputs": [
    {
     "name": "stdout",
     "output_type": "stream",
     "text": [
      "{'Lahore', 'Karachi', 'Kohat'}\n"
     ]
    }
   ],
   "source": [
    "print(set_var)"
   ]
  },
  {
   "cell_type": "raw",
   "id": "a195deb5-ee23-41c5-a980-f3a2242194d7",
   "metadata": {},
   "source": [
    "Inbuilt functions in set:-\n",
    "\n",
    "Add:-\n",
    "Adds all the elements of a set\n",
    "\n",
    "Set difference:-\n",
    "Takes difference between 2 sets. Basically does A-B on sets\n",
    "\n",
    "set1_name.difference(set2_name) -------> A-B\n",
    "set2_name.difference(set1_name) -------> B-A"
   ]
  },
  {
   "cell_type": "raw",
   "id": "65e424a6-036c-4321-aed3-91e8bea49cf0",
   "metadata": {},
   "source": [
    "Difference update:-\n",
    "takes difference of 2 sets then updates the first set with the result\n",
    "\n",
    "set1_name.difference_update(set2_name)"
   ]
  },
  {
   "cell_type": "raw",
   "id": "285eb63b-b1b7-4efc-86f9-50b1d6469ee6",
   "metadata": {},
   "source": [
    "Dictionary:-\n",
    "Collection which is unordered, changeable and indexed\n",
    "\n",
    "empty dictionary made by using inbuilt function:\n",
    "dict()\n",
    "OR\n",
    "dict={}"
   ]
  },
  {
   "cell_type": "raw",
   "id": "0f4e4ef4-4ba6-4413-98f7-7a0a0f3c14ba",
   "metadata": {},
   "source": [
    "Putting elements in dictionary"
   ]
  },
  {
   "cell_type": "code",
   "execution_count": 33,
   "id": "4c63d8ac-8782-439c-b520-17ff9c73d199",
   "metadata": {},
   "outputs": [],
   "source": [
    "dic={\"Cars\":78,\"Bikes\":20}"
   ]
  },
  {
   "cell_type": "raw",
   "id": "05e40d8c-2907-47e4-9c91-f4bb7c9801a0",
   "metadata": {},
   "source": [
    "here Cars is called the keyname and 78 is the value of that keyname. Dictionary consist of key-value pairs."
   ]
  },
  {
   "cell_type": "raw",
   "id": "06a77c86-22d9-419d-b5ba-c70920ff0dc5",
   "metadata": {},
   "source": [
    "Accessing dictionary items;-\n",
    "You access dictionary items based on their keys\n",
    "\n",
    "dic_name[keyname]"
   ]
  },
  {
   "cell_type": "raw",
   "id": "4fa0e915-2c9a-4e75-892e-cf8fa492c89e",
   "metadata": {},
   "source": [
    "Loop through a dictionary"
   ]
  },
  {
   "cell_type": "code",
   "execution_count": 34,
   "id": "149306d2-f8d3-41e2-9e62-a705247ec5d2",
   "metadata": {},
   "outputs": [
    {
     "name": "stdout",
     "output_type": "stream",
     "text": [
      "Cars\n",
      "Bikes\n"
     ]
    }
   ],
   "source": [
    "for x in dic:\n",
    "    print(x)"
   ]
  },
  {
   "cell_type": "raw",
   "id": "36b274cc-5043-4a3e-b74b-404ccec31873",
   "metadata": {},
   "source": [
    "this would return the keynames\n",
    "\n",
    "to get the values you can do this"
   ]
  },
  {
   "cell_type": "code",
   "execution_count": 36,
   "id": "55a6e2dd-75d1-476e-af93-9ff728b3895c",
   "metadata": {},
   "outputs": [
    {
     "name": "stdout",
     "output_type": "stream",
     "text": [
      "78\n",
      "20\n"
     ]
    }
   ],
   "source": [
    "for x in dic.values():\n",
    "    print(x)"
   ]
  },
  {
   "cell_type": "raw",
   "id": "757830de-ad77-4f4a-9fb8-82ab9753cd75",
   "metadata": {},
   "source": [
    "here we used a built in function which returns the values of the dictionary elements"
   ]
  },
  {
   "cell_type": "raw",
   "id": "6712e2c0-5af3-4f96-84b2-1ddeee6f318c",
   "metadata": {},
   "source": [
    "Add item in dictionary:-\n",
    "adds item into the dictionary"
   ]
  },
  {
   "cell_type": "code",
   "execution_count": 37,
   "id": "2fa70bc7-7b92-414f-86cd-596b389f404c",
   "metadata": {},
   "outputs": [],
   "source": [
    "dic[\"Boats\"]=50"
   ]
  },
  {
   "cell_type": "code",
   "execution_count": 39,
   "id": "af855d73-35ff-4d8a-9731-05422255a8ce",
   "metadata": {},
   "outputs": [
    {
     "name": "stdout",
     "output_type": "stream",
     "text": [
      "Cars\n",
      "Bikes\n",
      "Boats\n"
     ]
    }
   ],
   "source": [
    "for x in dic:\n",
    "    print(x)"
   ]
  },
  {
   "cell_type": "code",
   "execution_count": 40,
   "id": "05669e10-cd97-4c40-974a-c7eef27ba01b",
   "metadata": {},
   "outputs": [
    {
     "name": "stdout",
     "output_type": "stream",
     "text": [
      "78\n",
      "20\n",
      "50\n"
     ]
    }
   ],
   "source": [
    "for x in dic.values():\n",
    "    print(x)"
   ]
  },
  {
   "cell_type": "raw",
   "id": "1794b538-56fa-451b-bb50-4489dde79039",
   "metadata": {},
   "source": [
    "Nested dictionary:-"
   ]
  },
  {
   "cell_type": "code",
   "execution_count": 42,
   "id": "913cabc0-c866-4101-8df4-25e3d3273ae6",
   "metadata": {},
   "outputs": [],
   "source": [
    "car1_model={'Mercedes':1960}\n",
    "car2_model={'Audi':1970}\n",
    "car3_model={'BMW':1990}"
   ]
  },
  {
   "cell_type": "code",
   "execution_count": 43,
   "id": "bbbc3890-edde-4102-b1a7-357dbdbb1019",
   "metadata": {},
   "outputs": [],
   "source": [
    "car_type={\"car1\":car1_model,\"car2\":car2_model,\"car3\":car3_model}"
   ]
  },
  {
   "cell_type": "raw",
   "id": "ded5d680-9a83-40a4-bffd-6f6ee1f0e1ba",
   "metadata": {},
   "source": [
    "Accessing items in a nested dictionary"
   ]
  },
  {
   "cell_type": "code",
   "execution_count": 44,
   "id": "99d842c0-4c02-440a-8bd4-d40fa9e36490",
   "metadata": {},
   "outputs": [
    {
     "name": "stdout",
     "output_type": "stream",
     "text": [
      "{'Mercedes': 1960}\n"
     ]
    }
   ],
   "source": [
    "print(car_type['car1'])"
   ]
  },
  {
   "cell_type": "code",
   "execution_count": 45,
   "id": "4744e5a5-890c-4f74-9960-34f545c09fa9",
   "metadata": {},
   "outputs": [
    {
     "name": "stdout",
     "output_type": "stream",
     "text": [
      "1960\n"
     ]
    }
   ],
   "source": [
    "print(car_type['car1']['Mercedes'])"
   ]
  },
  {
   "cell_type": "raw",
   "id": "7ef23c70-0357-48a7-a20a-564a059656be",
   "metadata": {},
   "source": [
    "Tuples:-\n",
    "Its not mutable,meaning once you define it, you cannot change its items. Much like const in C++."
   ]
  },
  {
   "cell_type": "code",
   "execution_count": 47,
   "id": "7c9241b3-1d83-4bc8-81bc-588f65d3d13f",
   "metadata": {},
   "outputs": [],
   "source": [
    "my_tuple=tuple()"
   ]
  },
  {
   "cell_type": "code",
   "execution_count": 48,
   "id": "a3736b92-5453-4cd3-8c10-4fabf5bd6bc0",
   "metadata": {},
   "outputs": [],
   "source": [
    "my_tuple=(\"Iron\",\"Copper\",\"Silver\")"
   ]
  },
  {
   "cell_type": "raw",
   "id": "32218027-6e67-449e-a703-6b8824f91fc8",
   "metadata": {},
   "source": [
    "Accessing items in a tuple:-"
   ]
  },
  {
   "cell_type": "code",
   "execution_count": 49,
   "id": "e18a2f8b-c94c-4469-8b1c-52636d239027",
   "metadata": {},
   "outputs": [
    {
     "data": {
      "text/plain": [
       "'Iron'"
      ]
     },
     "execution_count": 49,
     "metadata": {},
     "output_type": "execute_result"
    }
   ],
   "source": [
    "my_tuple[0]"
   ]
  },
  {
   "cell_type": "raw",
   "id": "b600da83-bdd5-4982-b4c0-5264c2fff92d",
   "metadata": {},
   "source": [
    "Why is it used?\n",
    "Used where definition of an item is only required one time"
   ]
  },
  {
   "cell_type": "raw",
   "id": "2d8f0f39-1f36-441f-870d-b25fa726c694",
   "metadata": {},
   "source": [
    "Inbuilt functions:-"
   ]
  },
  {
   "cell_type": "raw",
   "id": "d0e64d06-85b4-4669-b2eb-d2b8e954b67b",
   "metadata": {},
   "source": [
    "Count:-\n",
    "counts the amount of time an item occurs in a tuple"
   ]
  },
  {
   "cell_type": "code",
   "execution_count": 50,
   "id": "82ca91e6-a227-4a5b-90ca-4159ed11afe2",
   "metadata": {},
   "outputs": [
    {
     "data": {
      "text/plain": [
       "1"
      ]
     },
     "execution_count": 50,
     "metadata": {},
     "output_type": "execute_result"
    }
   ],
   "source": [
    "my_tuple.count(\"Iron\")"
   ]
  },
  {
   "cell_type": "raw",
   "id": "f5e5f8c7-cb2d-48e8-a5af-f5dd81b6bdaa",
   "metadata": {},
   "source": [
    "Index:-\n",
    "Returns the index of the item"
   ]
  },
  {
   "cell_type": "code",
   "execution_count": 51,
   "id": "0afa0930-271b-4199-ad17-737d00ac1b6a",
   "metadata": {},
   "outputs": [
    {
     "data": {
      "text/plain": [
       "0"
      ]
     },
     "execution_count": 51,
     "metadata": {},
     "output_type": "execute_result"
    }
   ],
   "source": [
    "my_tuple.index(\"Iron\")"
   ]
  },
  {
   "cell_type": "code",
   "execution_count": 52,
   "id": "6a73a520-5d7e-4c62-9013-d5a7213442ff",
   "metadata": {},
   "outputs": [
    {
     "data": {
      "text/plain": [
       "1"
      ]
     },
     "execution_count": 52,
     "metadata": {},
     "output_type": "execute_result"
    }
   ],
   "source": [
    "my_tuple.index(\"Copper\")"
   ]
  },
  {
   "cell_type": "code",
   "execution_count": null,
   "id": "49db3f27-9179-4440-908c-b0b8092d5be2",
   "metadata": {},
   "outputs": [],
   "source": []
  }
 ],
 "metadata": {
  "kernelspec": {
   "display_name": "Python 3 (ipykernel)",
   "language": "python",
   "name": "python3"
  },
  "language_info": {
   "codemirror_mode": {
    "name": "ipython",
    "version": 3
   },
   "file_extension": ".py",
   "mimetype": "text/x-python",
   "name": "python",
   "nbconvert_exporter": "python",
   "pygments_lexer": "ipython3",
   "version": "3.12.4"
  }
 },
 "nbformat": 4,
 "nbformat_minor": 5
}
