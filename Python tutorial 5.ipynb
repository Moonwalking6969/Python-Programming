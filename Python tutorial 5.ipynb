{
 "cells": [
  {
   "cell_type": "raw",
   "id": "2e60266c-78c6-4692-8b36-cec142b5381c",
   "metadata": {},
   "source": [
    "Seaborn Tutorial\n",
    "\n",
    "Distribution plots\n",
    "\n",
    "distplot\n",
    "joinplot\n",
    "pairplot\n",
    "\n",
    "Practise problem on IRS Dataset"
   ]
  },
  {
   "cell_type": "code",
   "execution_count": 2,
   "id": "538c61e8-51fe-4940-bc0b-6b1fe545621f",
   "metadata": {},
   "outputs": [],
   "source": [
    "import seaborn as sns"
   ]
  },
  {
   "cell_type": "code",
   "execution_count": 14,
   "id": "9e3ab7aa-2c09-4d8b-89d9-2522fe7d206a",
   "metadata": {},
   "outputs": [],
   "source": [
    "import matplotlib as mp"
   ]
  },
  {
   "cell_type": "code",
   "execution_count": 9,
   "id": "a63c4d62-52c9-40c9-a09b-47c782358cb6",
   "metadata": {},
   "outputs": [],
   "source": [
    "df=sns.load_dataset(\"tips\")"
   ]
  },
  {
   "cell_type": "code",
   "execution_count": 10,
   "id": "60e54393-5754-4135-b540-b8da0265d718",
   "metadata": {},
   "outputs": [
    {
     "data": {
      "text/html": [
       "<div>\n",
       "<style scoped>\n",
       "    .dataframe tbody tr th:only-of-type {\n",
       "        vertical-align: middle;\n",
       "    }\n",
       "\n",
       "    .dataframe tbody tr th {\n",
       "        vertical-align: top;\n",
       "    }\n",
       "\n",
       "    .dataframe thead th {\n",
       "        text-align: right;\n",
       "    }\n",
       "</style>\n",
       "<table border=\"1\" class=\"dataframe\">\n",
       "  <thead>\n",
       "    <tr style=\"text-align: right;\">\n",
       "      <th></th>\n",
       "      <th>total_bill</th>\n",
       "      <th>tip</th>\n",
       "      <th>sex</th>\n",
       "      <th>smoker</th>\n",
       "      <th>day</th>\n",
       "      <th>time</th>\n",
       "      <th>size</th>\n",
       "    </tr>\n",
       "  </thead>\n",
       "  <tbody>\n",
       "    <tr>\n",
       "      <th>0</th>\n",
       "      <td>16.99</td>\n",
       "      <td>1.01</td>\n",
       "      <td>Female</td>\n",
       "      <td>No</td>\n",
       "      <td>Sun</td>\n",
       "      <td>Dinner</td>\n",
       "      <td>2</td>\n",
       "    </tr>\n",
       "    <tr>\n",
       "      <th>1</th>\n",
       "      <td>10.34</td>\n",
       "      <td>1.66</td>\n",
       "      <td>Male</td>\n",
       "      <td>No</td>\n",
       "      <td>Sun</td>\n",
       "      <td>Dinner</td>\n",
       "      <td>3</td>\n",
       "    </tr>\n",
       "    <tr>\n",
       "      <th>2</th>\n",
       "      <td>21.01</td>\n",
       "      <td>3.50</td>\n",
       "      <td>Male</td>\n",
       "      <td>No</td>\n",
       "      <td>Sun</td>\n",
       "      <td>Dinner</td>\n",
       "      <td>3</td>\n",
       "    </tr>\n",
       "    <tr>\n",
       "      <th>3</th>\n",
       "      <td>23.68</td>\n",
       "      <td>3.31</td>\n",
       "      <td>Male</td>\n",
       "      <td>No</td>\n",
       "      <td>Sun</td>\n",
       "      <td>Dinner</td>\n",
       "      <td>2</td>\n",
       "    </tr>\n",
       "    <tr>\n",
       "      <th>4</th>\n",
       "      <td>24.59</td>\n",
       "      <td>3.61</td>\n",
       "      <td>Female</td>\n",
       "      <td>No</td>\n",
       "      <td>Sun</td>\n",
       "      <td>Dinner</td>\n",
       "      <td>4</td>\n",
       "    </tr>\n",
       "  </tbody>\n",
       "</table>\n",
       "</div>"
      ],
      "text/plain": [
       "   total_bill   tip     sex smoker  day    time  size\n",
       "0       16.99  1.01  Female     No  Sun  Dinner     2\n",
       "1       10.34  1.66    Male     No  Sun  Dinner     3\n",
       "2       21.01  3.50    Male     No  Sun  Dinner     3\n",
       "3       23.68  3.31    Male     No  Sun  Dinner     2\n",
       "4       24.59  3.61  Female     No  Sun  Dinner     4"
      ]
     },
     "execution_count": 10,
     "metadata": {},
     "output_type": "execute_result"
    }
   ],
   "source": [
    "df.head()"
   ]
  },
  {
   "cell_type": "code",
   "execution_count": 11,
   "id": "a76f33de-8ac5-4d72-b204-6ea7cd83b81d",
   "metadata": {},
   "outputs": [
    {
     "data": {
      "text/plain": [
       "total_bill     float64\n",
       "tip            float64\n",
       "sex           category\n",
       "smoker        category\n",
       "day           category\n",
       "time          category\n",
       "size             int64\n",
       "dtype: object"
      ]
     },
     "execution_count": 11,
     "metadata": {},
     "output_type": "execute_result"
    }
   ],
   "source": [
    "df.dtypes"
   ]
  },
  {
   "cell_type": "raw",
   "id": "78a17458-12fd-4ef9-8ac6-967c6b51108e",
   "metadata": {},
   "source": [
    "Correlation with Heatmap\n",
    "A correlation heatmap uses colored cells, typically in a monochromatic scale, to show a 2D correlation matrix(table) between two discrete dimensions or event types. It is very important in Feature Selection\n"
   ]
  },
  {
   "cell_type": "code",
   "execution_count": null,
   "id": "e4219e79-37a3-4515-952e-277c277a342b",
   "metadata": {},
   "outputs": [],
   "source": [
    "df.corr()"
   ]
  },
  {
   "cell_type": "code",
   "execution_count": null,
   "id": "051a45d2-7315-43a8-b50a-bd83428a15ea",
   "metadata": {},
   "outputs": [],
   "source": [
    "sns.heatmap(df.corr())"
   ]
  },
  {
   "cell_type": "raw",
   "id": "5e213b39-de4c-4834-8839-eabe36a513f0",
   "metadata": {},
   "source": [
    "JoinPlot\n",
    "A join plot allows to study the relationship between 2 numberic variables. The central chart display their correlation. It is usually a scatterpot, a hexbin plot, a 2D histogram or a 2D density plot"
   ]
  },
  {
   "cell_type": "raw",
   "id": "87b1a987-0b02-4ce4-a02d-188ad2ec1597",
   "metadata": {},
   "source": [
    "Univariate Analysis"
   ]
  },
  {
   "cell_type": "code",
   "execution_count": null,
   "id": "42debe53-96f7-4def-a15c-bb3cff083f08",
   "metadata": {},
   "outputs": [],
   "source": [
    "sns.jointplot(x='tip',y='total_bill',data=df,king='hex')"
   ]
  },
  {
   "cell_type": "code",
   "execution_count": null,
   "id": "5d3d5c64-bf1e-4f6a-be18-0a0b786c2fe9",
   "metadata": {},
   "outputs": [],
   "source": [
    "sns.jointplot(x='tip',y='total_bill',data=df,king='reg')"
   ]
  },
  {
   "cell_type": "raw",
   "id": "a1375728-8362-4249-a026-d28130e8f504",
   "metadata": {},
   "source": [
    "Pair Plot\n",
    "A pair plot is also known as a scatterplot, in which one variable in the same data row is matched with another variable's value, like this: Pairs plots are just elaborations on this, showing all varaibles paired with all the other variables"
   ]
  },
  {
   "cell_type": "code",
   "execution_count": null,
   "id": "5a592ee7-6a62-4a5e-969e-69b1d3ccd33c",
   "metadata": {},
   "outputs": [],
   "source": [
    "sns.pairplot(df)"
   ]
  },
  {
   "cell_type": "code",
   "execution_count": null,
   "id": "8cc68f4f-fa54-4ca6-8150-9ea09057493a",
   "metadata": {},
   "outputs": [],
   "source": [
    "sns.pairplot(df,hue='sex')"
   ]
  },
  {
   "cell_type": "code",
   "execution_count": 19,
   "id": "130d5f6d-527e-4ecc-8b34-935c7ac4bf1f",
   "metadata": {},
   "outputs": [
    {
     "data": {
      "text/plain": [
       "smoker\n",
       "No     151\n",
       "Yes     93\n",
       "Name: count, dtype: int64"
      ]
     },
     "execution_count": 19,
     "metadata": {},
     "output_type": "execute_result"
    }
   ],
   "source": [
    "df['smoker'].value_counts()"
   ]
  },
  {
   "cell_type": "code",
   "execution_count": null,
   "id": "37859312-0b53-4923-95fc-08aa47e1a429",
   "metadata": {},
   "outputs": [],
   "source": [
    "sns.pairplot(df,hue='smoker')"
   ]
  },
  {
   "cell_type": "code",
   "execution_count": null,
   "id": "72f33607-ea71-4a04-bb05-1f30344698f4",
   "metadata": {},
   "outputs": [],
   "source": [
    "sns.pairplot(df,hue='size')"
   ]
  },
  {
   "cell_type": "raw",
   "id": "84773eaa-7b17-40bd-a89c-da17271a70e9",
   "metadata": {},
   "source": [
    "Dist plots\n",
    "dist plots helps us to check the distribution of columns feature. dist here stands for distribution"
   ]
  },
  {
   "cell_type": "code",
   "execution_count": null,
   "id": "15afc7f3-683e-4ff6-b9b4-1e6666d6edb0",
   "metadata": {},
   "outputs": [],
   "source": [
    "sns.distplot(df['tips'])"
   ]
  },
  {
   "cell_type": "code",
   "execution_count": null,
   "id": "c471b68f-29b8-4cf1-a289-e2d4b13805e8",
   "metadata": {},
   "outputs": [],
   "source": [
    "sns.distplot(df['tips'],kds=False,bins=10)"
   ]
  }
 ],
 "metadata": {
  "kernelspec": {
   "display_name": "Python 3 (ipykernel)",
   "language": "python",
   "name": "python3"
  },
  "language_info": {
   "codemirror_mode": {
    "name": "ipython",
    "version": 3
   },
   "file_extension": ".py",
   "mimetype": "text/x-python",
   "name": "python",
   "nbconvert_exporter": "python",
   "pygments_lexer": "ipython3",
   "version": "3.12.4"
  }
 },
 "nbformat": 4,
 "nbformat_minor": 5
}
